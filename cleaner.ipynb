{
 "cells": [
  {
   "cell_type": "code",
   "execution_count": 31,
   "metadata": {},
   "outputs": [],
   "source": [
    "import pandas as pd\n",
    "import numpy as np"
   ]
  },
  {
   "cell_type": "code",
   "execution_count": 32,
   "metadata": {},
   "outputs": [],
   "source": [
    "raw_fondos = pd.read_csv(\"CSV/fondos.csv\")\n",
    "raw_afiliados = pd.read_csv(\"CSV/afiliados.csv\", index_col=0)\n",
    "raw_afp = pd.read_csv(\"CSV/afp.csv\", index_col=0)"
   ]
  },
  {
   "cell_type": "code",
   "execution_count": 33,
   "metadata": {},
   "outputs": [],
   "source": [
    "#raw_fondos[raw_fondos.duplicated(['RUT'])]\n",
    "#raw_afiliados[raw_afiliados.duplicated(['RUT'])]\n",
    "#raw_afp[raw_afp.duplicated(['Nombre'])]"
   ]
  },
  {
   "cell_type": "code",
   "execution_count": 34,
   "metadata": {},
   "outputs": [],
   "source": [
    "afiliados_cols = list(raw_afiliados.columns.values)\n",
    "afiliados_cols[0], afiliados_cols[2] = afiliados_cols[2], afiliados_cols[0]\n",
    "\n",
    "final_afiliados = raw_afiliados.reindex(columns=afiliados_cols)\n",
    "final_fondos = raw_fondos\n",
    "final_afp = raw_afp"
   ]
  },
  {
   "cell_type": "code",
   "execution_count": 35,
   "metadata": {},
   "outputs": [],
   "source": [
    "final_afp.to_csv(\"Cleaned CSV/afp.csv\",index=False)\n",
    "final_fondos.to_csv(\"Cleaned CSV/fondos.csv\",index=False)\n",
    "final_afiliados.to_csv(\"Cleaned CSV/afiliados.csv\",index=False)"
   ]
  }
 ],
 "metadata": {
  "kernelspec": {
   "display_name": "Python 3",
   "language": "python",
   "name": "python3"
  },
  "language_info": {
   "codemirror_mode": {
    "name": "ipython",
    "version": 3
   },
   "file_extension": ".py",
   "mimetype": "text/x-python",
   "name": "python",
   "nbconvert_exporter": "python",
   "pygments_lexer": "ipython3",
   "version": "3.7.4"
  }
 },
 "nbformat": 4,
 "nbformat_minor": 4
}
